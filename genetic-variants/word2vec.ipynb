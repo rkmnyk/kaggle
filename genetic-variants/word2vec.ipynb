{
 "cells": [
  {
   "cell_type": "code",
   "execution_count": 1,
   "metadata": {
    "collapsed": true
   },
   "outputs": [],
   "source": [
    "import gensim"
   ]
  },
  {
   "cell_type": "code",
   "execution_count": 2,
   "metadata": {},
   "outputs": [
    {
     "data": {
      "text/plain": [
       "'Cyclin-dependent kinases (CDKs) regulate variety fundamental cellular processes. CDK10 stands orphan CDKs activating cyclin identified kinase activity revealed.'"
      ]
     },
     "execution_count": 2,
     "metadata": {},
     "output_type": "execute_result"
    }
   ],
   "source": [
    "# as can be seen below, gensim seems to remove 'no', considering it a stopword.\n",
    "# i guess for such a complex text as a research paper this obfuscates the meaning\n",
    "# of a sentence too much.\n",
    "gensim.parsing.preprocessing.remove_stopwords(\"Cyclin-dependent kinases (CDKs) regulate a variety of fundamental cellular processes. CDK10 stands out as one of the last orphan CDKs for which no activating cyclin has been identified and no kinase activity revealed. \")"
   ]
  },
  {
   "cell_type": "code",
   "execution_count": 3,
   "metadata": {},
   "outputs": [
    {
     "name": "stdout",
     "output_type": "stream",
     "text": [
      "cyclin-depend kinas (cdks) regul a varieti of fundament cellular processes. cdk10 stand out as on of the last orphan cdk for which no activ cyclin ha been identifi and no kinas activ revealed.\n",
      "previou work ha shown that cdk10 silenc increas ets2 (v-et erythroblastosi viru e26 oncogen homolog 2)-driven activ of the mapk pathway, which confer tamoxifen resist to breast cancer cells.\n"
     ]
    }
   ],
   "source": [
    "# gensim stemmer is not as smart as other stemmers around, as it afair has no built in database/information \n",
    "# of the words, but is just based on some algorithmical rules of how to reduce words (such as removing '-ing', etc)\n",
    "# but i think the two examples below show that it might still be useful for us.\n",
    "print(gensim.parsing.preprocessing.stem(\"Cyclin-dependent kinases (CDKs) regulate a variety of fundamental cellular processes. CDK10 stands out as one of the last orphan CDKs for which no activating cyclin has been identified and no kinase activity revealed. \"))\n",
    "print(gensim.parsing.preprocessing.stem(\" Previous work has shown that CDK10 silencing increases ETS2 (v-ets erythroblastosis virus E26 oncogene homolog 2)-driven activation of the MAPK pathway, which confers tamoxifen resistance to breast cancer cells.\"))"
   ]
  },
  {
   "cell_type": "code",
   "execution_count": 4,
   "metadata": {},
   "outputs": [
    {
     "data": {
      "text/plain": [
       "['The precise mechanisms by which CDK10 modulates ETS2 activity, and more generally the functions of CDK10, remain elusive.',\n",
       " 'Here we demonstrate that CDK10 is a cyclin-dependent kinase by identifying cyclin M as an activating cyclin.',\n",
       " 'Cyclin M, an orphan cyclin, is the product of FAM58A, whose mutations cause STAR syndrome, a human developmental anomaly whose features include toe syndactyly, telecanthus, and anogenital and renal malformations.',\n",
       " 'We show that STAR syndrome-associated cyclin M mutants are unable to interact with CDK10.']"
      ]
     },
     "execution_count": 4,
     "metadata": {},
     "output_type": "execute_result"
    }
   ],
   "source": [
    "# splitting sentences seems to go well\n",
    "gensim.summarization.textcleaner.split_sentences(\"The precise mechanisms by which CDK10 modulates ETS2 activity, and more generally the functions of CDK10, remain elusive. Here we demonstrate that CDK10 is a cyclin-dependent kinase by identifying cyclin M as an activating cyclin. Cyclin M, an orphan cyclin, is the product of FAM58A, whose mutations cause STAR syndrome, a human developmental anomaly whose features include toe syndactyly, telecanthus, and anogenital and renal malformations. We show that STAR syndrome-associated cyclin M mutants are unable to interact with CDK10.\")"
   ]
  },
  {
   "cell_type": "code",
   "execution_count": 5,
   "metadata": {
    "collapsed": true
   },
   "outputs": [],
   "source": [
    "# for word in gensim.summarization.textcleaner.tokenize_by_word(\"The precise mechanisms by which CDK10 modulates ETS2 activity, and more generally the functions of CDK10, remain elusive. Here we demonstrate that CDK10 is a cyclin-dependent kinase by identifying cyclin M as an activating cyclin. Cyclin M, an orphan cyclin, is the product of FAM58A, whose mutations cause STAR syndrome, a human developmental anomaly whose features include toe syndactyly, telecanthus, and anogenital and renal malformations. We show that STAR syndrome-associated cyclin M mutants are unable to interact with CDK10.\"):\n",
    "#    print(word)"
   ]
  },
  {
   "cell_type": "code",
   "execution_count": 6,
   "metadata": {
    "collapsed": true
   },
   "outputs": [],
   "source": [
    "class MySentences:\n",
    "    def __init__(self, fname):\n",
    "        self.fname = fname\n",
    "        \n",
    "    def __iter__(self):\n",
    "        file = open(self.fname, \"r\")\n",
    "        for k, line in enumerate(file):\n",
    "            if k == 0: # skip first line, containing header\n",
    "                continue\n",
    "            (label, text) = line.split(\"||\")\n",
    "            text = gensim.parsing.preprocessing.stem(text)   # should try both with and without stemmer\n",
    "            sentences = gensim.summarization.textcleaner.split_sentences(text)\n",
    "            for sentence in sentences:\n",
    "                sentence = gensim.parsing.preprocessing.strip_punctuation(sentence)\n",
    "                yield gensim.parsing.preprocessing.strip_multiple_whitespaces(sentence).split(\" \")\n",
    "                \n",
    "            if k % 100 == 0:\n",
    "                print(k)"
   ]
  },
  {
   "cell_type": "code",
   "execution_count": 7,
   "metadata": {},
   "outputs": [
    {
     "name": "stdout",
     "output_type": "stream",
     "text": [
      "100\n",
      "200\n",
      "300\n",
      "400\n",
      "500\n",
      "600\n",
      "700\n",
      "800\n",
      "900\n",
      "1000\n",
      "1100\n",
      "1200\n",
      "1300\n",
      "1400\n",
      "1500\n",
      "1600\n",
      "1700\n",
      "1800\n",
      "1900\n",
      "2000\n",
      "2100\n",
      "2200\n",
      "2300\n",
      "2400\n",
      "2500\n",
      "2600\n",
      "2700\n",
      "2800\n",
      "2900\n",
      "3000\n",
      "3100\n",
      "3200\n",
      "3300\n",
      "100\n",
      "200\n",
      "300\n",
      "400\n",
      "500\n",
      "600\n",
      "700\n",
      "800\n",
      "900\n",
      "1000\n",
      "1100\n",
      "1200\n",
      "1300\n",
      "1400\n",
      "1500\n",
      "1600\n",
      "1700\n",
      "1800\n",
      "1900\n",
      "2000\n",
      "2100\n",
      "2200\n",
      "2300\n",
      "2400\n",
      "2500\n",
      "2600\n",
      "2700\n",
      "2800\n",
      "2900\n",
      "3000\n",
      "3100\n",
      "3200\n",
      "3300\n",
      "100\n",
      "200\n",
      "300\n",
      "400\n",
      "500\n",
      "600\n",
      "700\n",
      "800\n",
      "900\n",
      "1000\n",
      "1100\n",
      "1200\n",
      "1300\n",
      "1400\n",
      "1500\n",
      "1600\n",
      "1700\n",
      "1800\n",
      "1900\n",
      "2000\n",
      "2100\n",
      "2200\n",
      "2300\n",
      "2400\n",
      "2500\n",
      "2600\n",
      "2700\n",
      "2800\n",
      "2900\n",
      "3000\n",
      "3100\n",
      "3200\n",
      "3300\n",
      "100\n",
      "200\n",
      "300\n",
      "400\n",
      "500\n",
      "600\n",
      "700\n",
      "800\n",
      "900\n",
      "1000\n",
      "1100\n",
      "1200\n",
      "1300\n",
      "1400\n",
      "1500\n",
      "1600\n",
      "1700\n",
      "1800\n",
      "1900\n",
      "2000\n",
      "2100\n",
      "2200\n",
      "2300\n",
      "2400\n",
      "2500\n",
      "2600\n",
      "2700\n",
      "2800\n",
      "2900\n",
      "3000\n",
      "3100\n",
      "3200\n",
      "3300\n",
      "100\n",
      "200\n",
      "300\n",
      "400\n",
      "500\n",
      "600\n",
      "700\n",
      "800\n",
      "900\n",
      "1000\n",
      "1100\n",
      "1200\n",
      "1300\n",
      "1400\n",
      "1500\n",
      "1600\n",
      "1700\n",
      "1800\n",
      "1900\n",
      "2000\n",
      "2100\n",
      "2200\n",
      "2300\n",
      "2400\n",
      "2500\n",
      "2600\n",
      "2700\n",
      "2800\n",
      "2900\n",
      "3000\n",
      "3100\n",
      "3200\n",
      "3300\n",
      "100\n",
      "200\n",
      "300\n",
      "400\n",
      "500\n",
      "600\n",
      "700\n",
      "800\n",
      "900\n",
      "1000\n",
      "1100\n",
      "1200\n",
      "1300\n",
      "1400\n",
      "1500\n",
      "1600\n",
      "1700\n",
      "1800\n",
      "1900\n",
      "2000\n",
      "2100\n",
      "2200\n",
      "2300\n",
      "2400\n",
      "2500\n",
      "2600\n",
      "2700\n",
      "2800\n",
      "2900\n",
      "3000\n",
      "3100\n",
      "3200\n",
      "3300\n"
     ]
    }
   ],
   "source": [
    "model = gensim.models.Word2Vec(MySentences(\"data/training_text\"), min_count = 10, size = 100, workers = 2, window = 10)\n",
    "model.save(\"models/w2v_draft\")"
   ]
  },
  {
   "cell_type": "code",
   "execution_count": 8,
   "metadata": {},
   "outputs": [
    {
     "name": "stdout",
     "output_type": "stream",
     "text": [
      "0.253435122235\n",
      "0.0180694409598\n",
      "0.391597545294\n"
     ]
    }
   ],
   "source": [
    "print(model.similarity(gensim.parsing.preprocessing.stem(\"phenotype\"), gensim.parsing.preprocessing.stem(\"mutation\")))\n",
    "print(model.similarity(gensim.parsing.preprocessing.stem(\"phenotype\"), gensim.parsing.preprocessing.stem(\"supplementary\")))\n",
    "print(model.similarity(gensim.parsing.preprocessing.stem(\"MECP2\"), gensim.parsing.preprocessing.stem(\"FAM58A\"))) # two genes"
   ]
  },
  {
   "cell_type": "code",
   "execution_count": 9,
   "metadata": {},
   "outputs": [
    {
     "data": {
      "text/plain": [
       "[('coregulators', 0.6096699237823486),\n",
       " ('tgif', 0.5812826752662659),\n",
       " ('tcf1', 0.5306548476219177),\n",
       " ('multipurpos', 0.5202922821044922),\n",
       " ('soxcore', 0.5097544193267822),\n",
       " ('polyomaviru', 0.501846432685852),\n",
       " ('sterol', 0.49452584981918335),\n",
       " ('coactivators', 0.4882708489894867),\n",
       " ('corepressors', 0.4862823188304901),\n",
       " ('deltex1', 0.4826664924621582)]"
      ]
     },
     "execution_count": 9,
     "metadata": {},
     "output_type": "execute_result"
    }
   ],
   "source": [
    "model.most_similar(gensim.parsing.preprocessing.stem(\"MECP2\"))"
   ]
  },
  {
   "cell_type": "code",
   "execution_count": 10,
   "metadata": {},
   "outputs": [
    {
     "data": {
      "text/plain": [
       "[('c‐myc', 0.5921616554260254),\n",
       " ('0•0001', 0.5278559923171997),\n",
       " ('pcite4a', 0.510960042476654),\n",
       " ('s387', 0.5101921558380127),\n",
       " ('chehab', 0.5014484524726868),\n",
       " ('rsbweb', 0.4954987168312073),\n",
       " ('leder', 0.4905494451522827),\n",
       " ('translationt', 0.4891403913497925),\n",
       " ('ddg', 0.4890759587287903),\n",
       " ('medecine', 0.4860764443874359)]"
      ]
     },
     "execution_count": 10,
     "metadata": {},
     "output_type": "execute_result"
    }
   ],
   "source": [
    "model.most_similar(gensim.parsing.preprocessing.stem(\"FAM58A\"))"
   ]
  },
  {
   "cell_type": "code",
   "execution_count": 11,
   "metadata": {},
   "outputs": [
    {
     "data": {
      "text/plain": [
       "[('growth', 0.7840457558631897),\n",
       " ('proliferation', 0.7407917380332947),\n",
       " ('viabil', 0.718413233757019),\n",
       " ('viability', 0.679102897644043),\n",
       " ('apoptosi', 0.6767241954803467),\n",
       " ('motil', 0.6754286289215088),\n",
       " ('migrat', 0.6420519351959229),\n",
       " ('prolif', 0.6386007070541382),\n",
       " ('migration', 0.5674900412559509),\n",
       " ('apoptosis', 0.5645707249641418)]"
      ]
     },
     "execution_count": 11,
     "metadata": {},
     "output_type": "execute_result"
    }
   ],
   "source": [
    "model.most_similar(gensim.parsing.preprocessing.stem(\"proliferation\"))"
   ]
  },
  {
   "cell_type": "code",
   "execution_count": 12,
   "metadata": {},
   "outputs": [
    {
     "data": {
      "text/plain": [
       "[('overgrowth', 0.8914487957954407),\n",
       " ('malformations', 0.8556724190711975),\n",
       " ('malformation', 0.8470267057418823),\n",
       " ('skelet', 0.8389367461204529),\n",
       " ('meg', 0.8349440097808838),\n",
       " ('congenit', 0.829613447189331),\n",
       " ('anomalies', 0.8283162117004395),\n",
       " ('cortic', 0.8251320719718933),\n",
       " ('hypertroph', 0.82025146484375),\n",
       " ('hypoplasia', 0.818295419216156)]"
      ]
     },
     "execution_count": 12,
     "metadata": {},
     "output_type": "execute_result"
    }
   ],
   "source": [
    "model.most_similar(gensim.parsing.preprocessing.stem(\"malformation\"))"
   ]
  },
  {
   "cell_type": "code",
   "execution_count": 13,
   "metadata": {},
   "outputs": [
    {
     "data": {
      "text/plain": [
       "[('murin', 0.7380586862564087),\n",
       " ('rodent', 0.6595398187637329),\n",
       " ('zebrafish', 0.6186248660087585),\n",
       " ('rat', 0.5817452669143677),\n",
       " ('mammari', 0.5809231996536255),\n",
       " ('knockout', 0.5788918733596802),\n",
       " ('transgen', 0.5592449903488159),\n",
       " ('mice', 0.549843966960907),\n",
       " ('embryo', 0.5462746620178223),\n",
       " ('neut', 0.5361408591270447)]"
      ]
     },
     "execution_count": 13,
     "metadata": {},
     "output_type": "execute_result"
    }
   ],
   "source": [
    "model.most_similar(gensim.parsing.preprocessing.stem(\"mouse\"))"
   ]
  },
  {
   "cell_type": "code",
   "execution_count": 14,
   "metadata": {},
   "outputs": [
    {
     "data": {
      "text/plain": [
       "[('cdk2', 0.600689172744751),\n",
       " ('p21', 0.5478947162628174),\n",
       " ('cdk6', 0.5254380702972412),\n",
       " ('cyclins', 0.5233792066574097),\n",
       " ('p27kip1', 0.5157514810562134),\n",
       " ('prb', 0.5146927833557129),\n",
       " ('cdc25a', 0.5141868591308594),\n",
       " ('p27', 0.5025893449783325),\n",
       " ('p21cip1', 0.49756577610969543),\n",
       " ('labaer', 0.4946333169937134)]"
      ]
     },
     "execution_count": 14,
     "metadata": {},
     "output_type": "execute_result"
    }
   ],
   "source": [
    "model.most_similar(gensim.parsing.preprocessing.stem(\"cyclin\"))"
   ]
  },
  {
   "cell_type": "code",
   "execution_count": 15,
   "metadata": {},
   "outputs": [
    {
     "data": {
      "text/plain": [
       "[('ets2', 0.5947672128677368),\n",
       " ('rybp', 0.5735360980033875),\n",
       " ('grα', 0.5735219120979309),\n",
       " ('skp2', 0.5581691861152649),\n",
       " ('p27', 0.5579502582550049),\n",
       " ('cdc20', 0.552959680557251),\n",
       " ('cdc25a', 0.5506589412689209),\n",
       " ('catcs428c', 0.546405553817749),\n",
       " ('malt1', 0.5431875586509705),\n",
       " ('strepii', 0.5429892539978027)]"
      ]
     },
     "execution_count": 15,
     "metadata": {},
     "output_type": "execute_result"
    }
   ],
   "source": [
    "model.most_similar(gensim.parsing.preprocessing.stem(\"cdk10\"))"
   ]
  },
  {
   "cell_type": "code",
   "execution_count": 16,
   "metadata": {},
   "outputs": [
    {
     "data": {
      "text/plain": [
       "[('gene', 0.5157846212387085),\n",
       " ('d24', 0.4165746569633484),\n",
       " ('ccnd2', 0.41274768114089966),\n",
       " ('n561d', 0.40859490633010864),\n",
       " ('mett992i', 0.384358286857605),\n",
       " ('signif', 0.37893012166023254),\n",
       " ('uacc257', 0.37855881452560425),\n",
       " ('“high”', 0.37765616178512573),\n",
       " ('gen', 0.37401083111763),\n",
       " ('rb1', 0.37137362360954285)]"
      ]
     },
     "execution_count": 16,
     "metadata": {},
     "output_type": "execute_result"
    }
   ],
   "source": [
    "model.wv.most_similar(positive=['fam58a', 'genes'], negative=['mecp2'])"
   ]
  },
  {
   "cell_type": "code",
   "execution_count": 17,
   "metadata": {},
   "outputs": [
    {
     "data": {
      "text/plain": [
       "[('fzr1', 0.4606555104255676),\n",
       " ('tgfbr2r537p', 0.4507219195365906),\n",
       " ('l704n', 0.446124404668808),\n",
       " ('δegsss', 0.4413014054298401),\n",
       " ('7egfr', 0.43945831060409546),\n",
       " ('strepii', 0.43881285190582275),\n",
       " ('c‐myc', 0.4317334294319153),\n",
       " ('de2', 0.42876535654067993),\n",
       " ('epitope–tag', 0.4284369945526123),\n",
       " ('p271–170', 0.42751091718673706)]"
      ]
     },
     "execution_count": 17,
     "metadata": {},
     "output_type": "execute_result"
    }
   ],
   "source": [
    "model.wv.most_similar(positive=['fam58a', 'cdk10'], negative=['mecp2'])"
   ]
  },
  {
   "cell_type": "code",
   "execution_count": null,
   "metadata": {
    "collapsed": true
   },
   "outputs": [],
   "source": []
  }
 ],
 "metadata": {
  "kernelspec": {
   "display_name": "Python 3",
   "language": "python",
   "name": "python3"
  },
  "language_info": {
   "codemirror_mode": {
    "name": "ipython",
    "version": 3
   },
   "file_extension": ".py",
   "mimetype": "text/x-python",
   "name": "python",
   "nbconvert_exporter": "python",
   "pygments_lexer": "ipython3",
   "version": "3.6.1"
  }
 },
 "nbformat": 4,
 "nbformat_minor": 2
}
